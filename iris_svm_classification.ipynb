{
 "cells": [
  {
   "cell_type": "code",
   "execution_count": null,
   "id": "f40ff6c3",
   "metadata": {},
   "outputs": [],
   "source": [
    "\n",
    "import numpy as np\n",
    "import matplotlib.pyplot as plt\n",
    "from sklearn import datasets\n",
    "from sklearn.model_selection import train_test_split\n",
    "from sklearn.svm import SVC\n",
    "from sklearn.metrics import accuracy_score\n"
   ]
  },
  {
   "cell_type": "code",
   "execution_count": null,
   "id": "bfe7a2f4",
   "metadata": {},
   "outputs": [],
   "source": [
    "\n",
    "def plot_decision_boundary(kernel):\n",
    "    n_classes = 3\n",
    "    plot_colors = \"ryb\"\n",
    "    plot_step = 0.02\n",
    "    plt.figure(figsize=(15, 6))\n",
    "\n",
    "    for pairidx, pair in enumerate([[0, 1], [0, 2], [0, 3],\n",
    "                                    [1, 2], [1, 3], [2, 3]]):\n",
    "        X = iris.data[:, pair]\n",
    "        y = iris.target\n",
    "        clf = SVC(kernel=kernel).fit(X, y)\n",
    "\n",
    "        plt.subplot(2, 3, pairidx + 1)\n",
    "        x_min, x_max = X[:, 0].min() - 1, X[:, 0].max() + 1\n",
    "        y_min, y_max = X[:, 1].min() - 1, X[:, 1].max() + 1\n",
    "        xx, yy = np.meshgrid(np.arange(x_min, x_max, plot_step),\n",
    "                             np.arange(y_min, y_max, plot_step))\n",
    "\n",
    "        Z = clf.predict(np.c_[xx.ravel(), yy.ravel()])\n",
    "        Z = Z.reshape(xx.shape)\n",
    "        plt.contourf(xx, yy, Z, cmap=plt.cm.RdYlBu)\n",
    "\n",
    "        plt.xlabel(iris.feature_names[pair[0]])\n",
    "        plt.ylabel(iris.feature_names[pair[1]])\n",
    "\n",
    "        for i, color in zip(range(n_classes), plot_colors):\n",
    "            idx = np.where(y == i)\n",
    "            plt.scatter(X[idx, 0], X[idx, 1], c=color,\n",
    "                        label=iris.target_names[i],\n",
    "                        cmap=plt.cm.RdYlBu, edgecolor='black', s=15)\n",
    "\n",
    "    plt.suptitle(\"Decision surface of SVM with \" + kernel + \" kernel using paired features\")\n",
    "    plt.legend(loc='lower right')\n",
    "    plt.show()\n"
   ]
  },
  {
   "cell_type": "code",
   "execution_count": null,
   "id": "a05053e8",
   "metadata": {},
   "outputs": [],
   "source": [
    "\n",
    "iris = datasets.load_iris()\n",
    "X = iris.data\n",
    "y = iris.target\n",
    "\n",
    "X_train, X_test, y_train, y_test = train_test_split(X, y, test_size=0.2, random_state=42)\n"
   ]
  },
  {
   "cell_type": "code",
   "execution_count": null,
   "id": "897babc6",
   "metadata": {},
   "outputs": [],
   "source": [
    "\n",
    "plt.scatter(X_train[:, 0], X_train[:, 1], c=y_train)\n",
    "plt.title(\"Iris Dataset (Training Data)\")\n",
    "plt.xlabel(\"Sepal length\")\n",
    "plt.ylabel(\"Sepal width\")\n",
    "plt.show()\n"
   ]
  },
  {
   "cell_type": "code",
   "execution_count": null,
   "id": "78df5fd9",
   "metadata": {},
   "outputs": [],
   "source": [
    "\n",
    "C_list = [10**i for i in range(-2, 5)]\n",
    "kernels = ['linear', 'poly', 'rbf', 'sigmoid']\n",
    "markers = ['*', 's', '^', 'o']\n",
    "\n",
    "scores = []\n",
    "\n",
    "for k in kernels:\n",
    "    temp = []\n",
    "    for C in C_list:\n",
    "        model = SVC(C=C, kernel=k)\n",
    "        model.fit(X_train, y_train)\n",
    "        y_pred = model.predict(X_test)\n",
    "        temp.append(accuracy_score(y_test, y_pred))\n",
    "    scores.append(temp)\n",
    "\n",
    "plt.figure(figsize=(15, 6))\n",
    "for i in range(len(kernels)):\n",
    "    plt.plot(C_list, scores[i], label=kernels[i], marker=markers[i], markersize=10)\n",
    "\n",
    "plt.xscale(\"log\")\n",
    "plt.ylim(-0.1, 1.1)\n",
    "plt.legend(title=\"Kernel\")\n",
    "plt.title(\"SVM Model Accuracy vs Regularization Parameter (C)\")\n",
    "plt.xlabel(\"C (log scale)\")\n",
    "plt.ylabel(\"Accuracy\")\n",
    "plt.show()\n"
   ]
  },
  {
   "cell_type": "code",
   "execution_count": null,
   "id": "b6da4641",
   "metadata": {},
   "outputs": [],
   "source": [
    "\n",
    "print('RBF Kernel')\n",
    "plot_decision_boundary('rbf')\n",
    "\n",
    "print('Polynomial Kernel')\n",
    "plot_decision_boundary('poly')\n"
   ]
  }
 ],
 "metadata": {},
 "nbformat": 4,
 "nbformat_minor": 5
}